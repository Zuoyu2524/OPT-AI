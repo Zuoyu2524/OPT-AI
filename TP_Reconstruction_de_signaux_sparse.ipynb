{
  "cells": [
    {
      "cell_type": "markdown",
      "metadata": {
        "id": "V91uLhlt7mBx"
      },
      "source": [
        "<img\n",
        "src=\"https://www.imt-atlantique.fr/sites/default/files/Images/Ecole/charte-graphique/IMT_Atlantique_logo_RVB_Baseline_400x272.jpg\"\n",
        "WIDTH=200 HEIGHT=200>\n",
        "\n",
        "<CENTER>\n",
        "</br>\n",
        "<p><font size=\"5\"> TAF MCE - 2022</span></p>\n",
        "<p><font size=\"4\">  UE SLSR  </font></p>\n",
        "<p></p>\n",
        "<p><font size=\"5\">  TP - Reconstruction de signaux sparse </font></p>\n",
        "<p><font size=\"4\">Student Name: Zuoyu Zhang</font></p></br>\n",
        "</p>\n",
        "</CENTER>"
      ]
    },
    {
      "cell_type": "markdown",
      "metadata": {
        "id": "xOkcol99NjWO"
      },
      "source": [
        "**1 Introduction**\n",
        "\n",
        "Dans le cadre de ce TP vous avez pour objectifs de mettre en œuvre des méthodes de reconstruction de signaux sparse, de les évaluer en terme de performances de reconstruction et complexité et d’évaluer leurs robustesse par rapport au niveau de bruit. Pour cette session, le travail se déroule binôme ou seul et le choix du langage est libre entre Julia, Matlab et Python."
      ]
    },
    {
      "cell_type": "markdown",
      "metadata": {
        "id": "HTItiW7K93eM"
      },
      "source": [
        "Ici, nous importons d'abord quelques bibliothèques nécessaires à utiliser plus tard. "
      ]
    },
    {
      "cell_type": "code",
      "execution_count": 30,
      "metadata": {
        "id": "aBbx_geI9xWO"
      },
      "outputs": [],
      "source": [
        "import numpy as np\n",
        "import cvxpy as cp\n",
        "import time\n",
        "import matplotlib.pyplot as plt\n",
        "\n",
        "np.random.seed(123)\n",
        "N_iter = 10"
      ]
    },
    {
      "cell_type": "markdown",
      "metadata": {
        "id": "_JwNfaM9NW93"
      },
      "source": [
        "**2 Génération des données**\n",
        "\n",
        "Soit $x ∈ R^N$ un signal sparse avec $K$ éléments non-nuls et soit la matrice $A ∈ R^{n×N}$ une matrice aléatoire tel que : $$y =Ax$$. "
      ]
    },
    {
      "cell_type": "markdown",
      "metadata": {
        "id": "4sapVvtf8ezt"
      },
      "source": [
        "**Question 1) En utilisant les paramètres suivants $N = 500$, $n = 250$ et $K = 10$ générez le système précédent. Pour générer la matrice $\\mathbf{A}$ vous pouvez considérer que les éléments de la matrice sont gaussiens i.i.d de moyenne nulle et de variance unité. Le vecteur $x$ est un vecteur sparse de dimension $N$ avec $K$ éléments non-nuls qui peuvent être considérés comme gaussiens i.i.d de moyenne nulle et de variance unité. Aussi, les positions des éléments non-nuls doivent être générés aléatoirement.**"
      ]
    },
    {
      "cell_type": "code",
      "execution_count": 2,
      "metadata": {
        "id": "Afc4cfFsGaOy"
      },
      "outputs": [],
      "source": [
        "#Génération de données\n",
        "N = 500\n",
        "n = 250\n",
        "K = 10\n",
        "#matrice A est la matrice sont gaussiens i.i.d de moyenne nulle et de variance unité\n",
        "A = np.random.randn(n,N)\n",
        "x = np.zeros(N)\n",
        "#générer x non-nuls et avec distribution de gaussiens i.i.d de moyenne nulle et de variance unité\n",
        "gaussian_value = np.random.randn(K)\n",
        "#générer les positions des éléments non-nuls aléatoirement\n",
        "gaussian_index = np.random.randint(0,N,K)\n",
        "x[gaussian_index] = gaussian_value\n",
        "#calculer y\n",
        "y = A.dot(x)"
      ]
    },
    {
      "cell_type": "markdown",
      "metadata": {
        "id": "iXMUOa1INTkH"
      },
      "source": [
        "**3 Reconstruction de signaux sparse dans le cas sans bruit**\n",
        "\n",
        "Dans un premier temps nous considérons le critère suivant : \n",
        "\n",
        "$$(P_0)  \\qquad : \\begin{equation}\n",
        "\t\\mathop{\\arg\\min}_{x} \\ \\ \\| x\\|_0\n",
        "\\end{equation}  \\qquad subject\\; to \\qquad  Ax=y$$"
      ]
    },
    {
      "cell_type": "markdown",
      "metadata": {
        "id": "Qg1rMQM3DT9V"
      },
      "source": [
        "**Question 2) Mettez en œuvre l’algorithme Matching Pursuit (MP) pour la reconstruction du signal sparse? évaluez l’erreur quadratique de reconstruction? Pour une estimation fiable de l’erreur quadratique il faudra moyenner le résultats de plusieurs expériences.**"
      ]
    },
    {
      "cell_type": "code",
      "execution_count": 3,
      "metadata": {
        "id": "y2as9J9HMimO"
      },
      "outputs": [],
      "source": [
        "def MP_algorithm(A, y, K):\n",
        "  n, N = A.shape\n",
        "  #fixer le support Lambda Λ0 = ∅\n",
        "  Lambda = []\n",
        "  #Initialiser un résidu à r0 = b\n",
        "  r = y\n",
        "  x = np.zeros(N)\n",
        "  for i in range(K):\n",
        "    #Calculez tous les produits internes et sélectionnez celui de plus grande magnitude.\n",
        "    while(1):\n",
        "      mu = np.argmax(np.abs(A.T.dot(r))/np.sum(A**2,0))\n",
        "      if mu in Lambda:\n",
        "        min = np.argmin(np.abs(A.T.dot(r))/np.sum(A**2,0))\n",
        "        A[:,mu] = A[:,min]\n",
        "      else:\n",
        "        break\n",
        "    #si mu est choisi, nous le supprimons de A_c et l'ajoutons au support Lambda\n",
        "    Lambda.append(mu)\n",
        "    ##mettre à jour la solution provisoire\n",
        "    x[mu] = np.dot(A[:,mu].T,r)/np.linalg.norm(A[:,mu])**2\n",
        "    #Calculer un résidu mis à jour\n",
        "    r = r - A[:,mu].dot(x[mu])\n",
        "  return x"
      ]
    },
    {
      "cell_type": "code",
      "execution_count": null,
      "metadata": {
        "colab": {
          "base_uri": "https://localhost:8080/"
        },
        "id": "7DbcVDcziiet",
        "outputId": "7f2c6827-e4f6-44fe-c899-1c8cef1dca63"
      },
      "outputs": [
        {
          "name": "stdout",
          "output_type": "stream",
          "text": [
            "l’erreur quadratique de reconstruction pour l’algorithme Matching Pursuit (MP) est:  0.026426730166973944\n"
          ]
        }
      ],
      "source": [
        "#évaluez l’erreur quadratique de reconstruction\n",
        "Sq_Err_MP = []\n",
        "for i in range(N_iter):\n",
        "  x_hat_MP = MP_algorithm(A, y, K)\n",
        "  Sq_Err_MP.append(np.mean((x_hat_MP-x)**2))\n",
        "\n",
        "MSE_MP = np.mean(Sq_Err_MP)\n",
        "print(\"l’erreur quadratique de reconstruction pour l’algorithme Matching Pursuit (MP) est: \", MSE_MP)"
      ]
    },
    {
      "cell_type": "markdown",
      "metadata": {
        "id": "CCfdfVRrFxQq"
      },
      "source": [
        "**Question 3) Mettez en œuvre l’algorithme Orthogonal Matching Pursuit (OMP) pour la reconstruction du signal sparse? évaluez l’erreur quadratique de reconstruction?**"
      ]
    },
    {
      "cell_type": "code",
      "execution_count": 4,
      "metadata": {
        "id": "Mhql66lOjr-O"
      },
      "outputs": [],
      "source": [
        "def OMP_algorithm(A, y, K):\n",
        "  n, N = A.shape\n",
        "  #fixer le support Lambda Λ0 = ∅\n",
        "  Lambda = []\n",
        "  #Initialiser un résidu à r0 = b\n",
        "  r = y\n",
        "  #Initialiser un solution x = 0\n",
        "  x = np.zeros(N)\n",
        "  for i in range(K):\n",
        "    #Calculez tous les produits internes et sélectionnez celui de plus grande magnitude.\n",
        "    while(1):\n",
        "      mu = np.argmax(np.abs(A.T.dot(r))/np.sum(A**2,0))\n",
        "      if mu in Lambda:\n",
        "        min = np.argmin(np.abs(A.T.dot(r))/np.sum(A**2,0))\n",
        "        A[:,mu] = A[:,min]\n",
        "      else:\n",
        "        break\n",
        "    #si mu est choisi, nous le supprimons de A_c et l'ajoutons au support Lambda\n",
        "    Lambda.append(mu)\n",
        "    #mettre à jour la solution provisoire\n",
        "    A_Lam = A[:,Lambda]\n",
        "    x[Lambda] = np.dot(np.linalg.pinv(A_Lam),y)\n",
        "    #Calculer un résidu mis à jour\n",
        "    r = y - A_Lam.dot(x[Lambda])\n",
        "  return x"
      ]
    },
    {
      "cell_type": "code",
      "execution_count": null,
      "metadata": {
        "colab": {
          "base_uri": "https://localhost:8080/"
        },
        "id": "wJ6Xvu0DGxSv",
        "outputId": "fa03e8e2-38e2-4622-fb34-56ea41622c7b"
      },
      "outputs": [
        {
          "name": "stdout",
          "output_type": "stream",
          "text": [
            "l’erreur quadratique de reconstruction pour l’algorithme Orthogonal Matching Pursuit (OMP) est:  2.7329042207352095e-32\n"
          ]
        }
      ],
      "source": [
        "#évaluez l’erreur quadratique de reconstruction\n",
        "N_iter = 10\n",
        "Sq_Err_OMP = []\n",
        "for i in range(N_iter):\n",
        "  x_hat_OMP = OMP_algorithm(A, y, K)\n",
        "  Sq_Err_OMP.append(np.mean((x_hat_OMP-x)**2))\n",
        "\n",
        "MSE_OMP = np.mean(Sq_Err_OMP)\n",
        "print(\"l’erreur quadratique de reconstruction pour l’algorithme Orthogonal Matching Pursuit (OMP) est: \", MSE_OMP)"
      ]
    },
    {
      "cell_type": "markdown",
      "metadata": {
        "id": "lm1UJPPEHEW4"
      },
      "source": [
        "**Question 4) Mettez en œuvre l’algorithme de seuillage itératif avec seuillage hard? évaluez l’erreur quadratique de reconstruction?**"
      ]
    },
    {
      "cell_type": "code",
      "execution_count": 5,
      "metadata": {
        "id": "w05ByRSjn1Cn"
      },
      "outputs": [],
      "source": [
        "def iterative_thresholding(A,y,K):\n",
        "  n, N = A.shape\n",
        "  mu = 0.5\n",
        "  x = np.random.randn(N)\n",
        "  for i in range(K):\n",
        "    #descente de gradient pour améliorer la fidélité des données\n",
        "    z = x + mu*(A.T.dot(y-2*A.dot(x)))\n",
        "    z_tmp = abs(z)\n",
        "    z_tmp = np.sort(z_tmp)\n",
        "    z_tmp = z_tmp[::-1]\n",
        "    #seuillage, en gardant les plus grands K éléments\n",
        "    x[abs(z)<z_tmp[K]] = 0 \n",
        "  return x"
      ]
    },
    {
      "cell_type": "code",
      "execution_count": null,
      "metadata": {
        "colab": {
          "base_uri": "https://localhost:8080/"
        },
        "id": "8IcuqGM3IWzO",
        "outputId": "1cb1a1da-8d89-4be0-c173-393f55728ebe"
      },
      "outputs": [
        {
          "name": "stdout",
          "output_type": "stream",
          "text": [
            "l’erreur quadratique de reconstruction pour l’algorithme de seuillage itératif avec seuillage hard est:  0.07842830016967711\n"
          ]
        }
      ],
      "source": [
        "#évaluez l’erreur quadratique de reconstruction\n",
        "Sq_Err_IHT = []\n",
        "for i in range(N_iter):\n",
        "  x_hat_IHT = iterative_thresholding(A,y,K)\n",
        "  Sq_Err_IHT.append(np.mean((x_hat_IHT-x)**2))\n",
        "  \n",
        "MSE_IHT = np.mean(Sq_Err_IHT)\n",
        "print(\"l’erreur quadratique de reconstruction pour l’algorithme de seuillage itératif avec seuillage hard est: \", MSE_IHT)"
      ]
    },
    {
      "cell_type": "markdown",
      "metadata": {
        "id": "2dHe7GCiJnji"
      },
      "source": [
        "Soit maintenant le critère (P1) définie par : \n",
        "\n",
        "$$(P_1)  \\qquad : \\begin{equation}\n",
        "\t\\mathop{\\arg\\min}_{x} \\ \\ \\| x\\|_1\n",
        "\\end{equation}  \\qquad subject\\; to \\qquad  Ax=y$$"
      ]
    },
    {
      "cell_type": "markdown",
      "metadata": {
        "id": "nFV_EOYZKBG9"
      },
      "source": [
        "**Question 5) Mettez en œuvre l’algorithme IRLS pour la reconstruction du signal sparse? évaluez l’erreur quadratique de reconstruction?**"
      ]
    },
    {
      "cell_type": "code",
      "execution_count": 6,
      "metadata": {
        "id": "HIOYRx9Yp_6I"
      },
      "outputs": [],
      "source": [
        "def IRLS(A,y,K,p=1):\n",
        "  n, N = A.shape\n",
        "  #Initialiser la matrice de poids à W = I\n",
        "  W = np.eye(N)\n",
        "  #Initialiser la solution x = 1\n",
        "  x = np.ones(N)\n",
        "  for i in range(K):\n",
        "    #mettre à jour la solution provisoire\n",
        "    x = np.dot(W**2,A.T).dot(np.linalg.pinv(A.dot(W**2).dot(A.T))).dot(y)\n",
        "    #mettre à jour la matrice de poids diagonale W\n",
        "    W = np.diag(np.abs(x)**(1-p/2))\n",
        "  return x"
      ]
    },
    {
      "cell_type": "code",
      "execution_count": null,
      "metadata": {
        "colab": {
          "base_uri": "https://localhost:8080/"
        },
        "id": "hR-EellLJ7lR",
        "outputId": "203b394d-85fa-497b-a3ac-17a63d73061e"
      },
      "outputs": [
        {
          "name": "stdout",
          "output_type": "stream",
          "text": [
            "l’erreur quadratique de reconstruction pour l’algorithme IRLS est:  1.691442336268482e-14\n"
          ]
        }
      ],
      "source": [
        "Sq_Err_IRLS = []\n",
        "for i in range(N_iter):\n",
        "  x_hat_IRLS = IRLS(A,y,K,p=1)\n",
        "  Sq_Err_IRLS.append(np.mean((x_hat_IRLS-x)**2))\n",
        "\n",
        "MSE_IRLS = np.mean(Sq_Err_IRLS)\n",
        "print(\"l’erreur quadratique de reconstruction pour l’algorithme IRLS est: \", MSE_IRLS)"
      ]
    },
    {
      "cell_type": "markdown",
      "metadata": {
        "id": "bXUw2jylLzSw"
      },
      "source": [
        "**Question 6) En utilisant les librairies d’optimisation convexe (Convex.jl pour Julia ou CVX pour Matlab), trouvez la solution au problème (P1)? évaluez l’erreur quadratique de reconstruction?**"
      ]
    },
    {
      "cell_type": "markdown",
      "metadata": {
        "id": "HrSwKHOWMVbq"
      },
      "source": [
        "Nous utiliserons ici la bibliothèque cvxpy 1.3.0 qui est un langage spécifique au domaine pour la modélisation de problèmes d'optimisation convexe en Python. Le lien de la description pour cvxpy:https://pypi.org/project/cvxpy/"
      ]
    },
    {
      "cell_type": "code",
      "execution_count": 7,
      "metadata": {
        "id": "1mXNmw2WL37y"
      },
      "outputs": [],
      "source": [
        "def opt_convex(A,y,K):\n",
        "  n, N = A.shape\n",
        "  #Construisez le problème.\n",
        "  x = cp.Variable(N)\n",
        "  objective = cp.Minimize(cp.norm(x,1))\n",
        "  #définissez la contrainte\n",
        "  constraints = [A @ x == y]\n",
        "  prob = cp.Problem(objective, constraints)\n",
        "  #L'objectif optimal est renvoyé par prob.solve().\n",
        "  prob.solve()\n",
        "  return x.value"
      ]
    },
    {
      "cell_type": "code",
      "execution_count": null,
      "metadata": {
        "colab": {
          "base_uri": "https://localhost:8080/"
        },
        "id": "-emVF-V7MNXm",
        "outputId": "37e4aa71-cd9f-47ff-8e7c-7cf381975e0e"
      },
      "outputs": [
        {
          "name": "stdout",
          "output_type": "stream",
          "text": [
            "l’erreur quadratique de reconstruction par la bibliothèque cvxpy est:  5.369334155910852e-25\n"
          ]
        }
      ],
      "source": [
        "Sq_Err_Lib = []\n",
        "for i in range(N_iter):\n",
        "  x_opt = opt_convex(A,y,K)\n",
        "  Sq_Err_Lib.append(np.mean((x_opt-x)**2))\n",
        "\n",
        "MSE_Lib = np.mean(Sq_Err_Lib)\n",
        "print(\"l’erreur quadratique de reconstruction par la bibliothèque cvxpy est: \", MSE_Lib)"
      ]
    },
    {
      "cell_type": "markdown",
      "metadata": {
        "id": "JUV2rFnSOBg2"
      },
      "source": [
        "**Question 7) Comparez les performances des différents algorithmes en termes d’erreur quadratique?**"
      ]
    },
    {
      "cell_type": "markdown",
      "metadata": {
        "id": "LA8YalrtPd4p"
      },
      "source": [
        "**Réponse** : En comparant l'erreur quadratique moyenne des différents algorithmes, nous constatons que celui qui présente l'erreur la plus faible est l'algorithme OMP, suivi par la bibliothèque cvxpy, l'algorithme IRLS optimisé par les paramètres p, l'algorithme MP et enfin l'algorithme de seuillage itératif avec seuillage dur. Parmi ces algorithmes, IRLS est un algorithme robuste qui peut être généralisé pour résoudre des problèmes de récupération de signaux épars, et OMP est un algorithme rapide qui convient mais nécessite une connaissance préalable de l'éparpillement. En général, l'OMP a tendance à être plus performant que l'IRLS dans le cas de dictionnaires hautement hypercomplets, car l'OMP peut utiliser la redondance du dictionnaire pour récupérer les signaux épars avec plus de précision. Dans notre problème, le nombre de colonnes dans la matrice du dictionnaire est le double du nombre de lignes, et donc OMP obtient de meilleurs résultats que IRLS. Bien sûr, puisque dans la correspondance orthogonale OMP, les résidus sont toujours orthogonaux aux atomes qui ont déjà été sélectionnés. Cela signifie qu'un atome n'est pas sélectionné deux fois et que les résultats convergent en un nombre fini d'étapes, donnant ainsi de meilleurs résultats que l'algorithme MP du même type (où la projection verticale du signal (résidus) sur les atomes sélectionnés n'est pas orthogonale, ce qui rend le résultat de chaque itération non pas optimal mais sous-optimal et nécessite plusieurs itérations pour converger)."
      ]
    },
    {
      "cell_type": "markdown",
      "metadata": {
        "id": "pPwNZF1ROPf1"
      },
      "source": [
        "**Question 8) Comparez les performances des différents algorithmes en termes de complexité calculatoire (temps d’exécution)?**"
      ]
    },
    {
      "cell_type": "code",
      "execution_count": 17,
      "metadata": {
        "id": "kxrWVlXpOX9B"
      },
      "outputs": [],
      "source": [
        "def evaluator(method, A, x, y, K, Niter):\n",
        "  start_time = time.time()\n",
        "  Sq_Err = []\n",
        "  for i in range(Niter):\n",
        "    x_hat = method(A,y,K)\n",
        "    if type(x_hat)!='NoneType':\n",
        "      Sq_Err.append(np.mean((x_hat-x)**2))\n",
        "    else:\n",
        "      Sq_Err.append(np.mean((x)**2))\n",
        "  \n",
        "  MSE = np.mean(Sq_Err)\n",
        "  execute_time = (time.time() - start_time)/Niter\n",
        "  return MSE ,execute_time"
      ]
    },
    {
      "cell_type": "code",
      "execution_count": 13,
      "metadata": {
        "colab": {
          "base_uri": "https://localhost:8080/"
        },
        "id": "jqgR6qCfS2CE",
        "outputId": "2e71a97c-1117-4a72-9427-095e045be348"
      },
      "outputs": [
        {
          "output_type": "stream",
          "name": "stdout",
          "text": [
            "MSE_MP=0.005497734412901432, \t execute_time_MP=0.0081s\n",
            "MSE_OMP=0.005596783307333984, \t execute_time_OMP=0.0060s\n",
            "MSE_IHT=0.07326708580951534, \t execute_time_IHT=0.0015s\n",
            "MSE_IRLS=0.012243459627964155, \t execute_time_IRLS=0.4492s\n",
            "MSE_use_Lib=0.01257701763177011, \t execute_time_use_Lib=0.7104s\n"
          ]
        }
      ],
      "source": [
        "MSE_MP ,execute_time_MP = evaluator(MP_algorithm, A, x, y, K, N_iter)\n",
        "MSE_OMP ,execute_time_OMP = evaluator(OMP_algorithm, A, x, y, K, N_iter)\n",
        "MSE_IHT ,execute_time_IHT = evaluator(iterative_thresholding, A, x, y, K, N_iter)\n",
        "MSE_IRLS ,execute_time_IRLS = evaluator(IRLS, A, x, y, K, N_iter)\n",
        "MSE_use_Lib ,execute_time_use_Lib = evaluator(opt_convex, A, x, y, K, N_iter)\n",
        "\n",
        "\n",
        "print(\"MSE_MP={}, \\t execute_time_MP={:.4f}s\".format(MSE_MP ,execute_time_MP))\n",
        "print(\"MSE_OMP={}, \\t execute_time_OMP={:.4f}s\".format(MSE_OMP ,execute_time_OMP))\n",
        "print(\"MSE_IHT={}, \\t execute_time_IHT={:.4f}s\".format(MSE_IHT ,execute_time_IHT))\n",
        "print(\"MSE_IRLS={}, \\t execute_time_IRLS={:.4f}s\".format(MSE_IRLS ,execute_time_IRLS))\n",
        "print(\"MSE_use_Lib={}, \\t execute_time_use_Lib={:.4f}s\".format(MSE_use_Lib ,execute_time_use_Lib))"
      ]
    },
    {
      "cell_type": "markdown",
      "metadata": {
        "id": "lTVl9294S2CF"
      },
      "source": [
        "**Réponse** : En termes de temps, l'algorithme le plus long est l'algorithme IRLS, qui prend 100 fois plus de temps que l'algorithme OMP, car la complexité de OMP est O(km^2 + knm), où k est la sparsité, m est le nombre d'atomes dans la matrice du dictionnaire et n est le nombre de mesures. En revanche, IRLS a une complexité de O(m^2n) par itération, ce qui est beaucoup plus important que OMP, qui prend plus de temps car il utilise tous les vecteurs de l'ensemble de support lambda pour mettre à jour la solution et calculer les résidus en plus de l'algorithme MP."
      ]
    },
    {
      "cell_type": "markdown",
      "metadata": {
        "id": "sAYp3AIQOhMS"
      },
      "source": [
        "**Question 9) Évaluez les performances des différents algorithmes pour différentes valeurs de sparsité $K ={10,20,50,100,200}$**"
      ]
    },
    {
      "cell_type": "code",
      "execution_count": 24,
      "metadata": {
        "colab": {
          "base_uri": "https://localhost:8080/"
        },
        "id": "XExms9LROo5C",
        "outputId": "d37e61e4-4965-4e3d-c300-177b795a5bf8"
      },
      "outputs": [
        {
          "output_type": "stream",
          "name": "stdout",
          "text": [
            "====K=10====\n",
            "MSE_MP=0.00034590406513939834, \t execute_time_MP=0.0095s\n",
            "MSE_OMP=2.113284409377226e-32, \t execute_time_OMP=0.0127s\n",
            "MSE_IHT=0.08536708521359346, \t execute_time_IHT=0.0014s\n",
            "MSE_IRLS=6.461448922359665e-15, \t execute_time_IRLS=0.4526s\n",
            "MSE_use_Lib=3.750678410642391e-23, \t execute_time_use_Lib=0.3082s\n",
            "====K=20====\n",
            "MSE_MP=0.024188814980082258, \t execute_time_MP=0.0065s\n",
            "MSE_OMP=0.028141361858275777, \t execute_time_OMP=0.0148s\n",
            "MSE_IHT=0.12388723412592309, \t execute_time_IHT=0.0027s\n",
            "MSE_IRLS=0.04495016614413683, \t execute_time_IRLS=0.9586s\n",
            "MSE_use_Lib=0.046089242858259924, \t execute_time_use_Lib=0.5234s\n",
            "====K=50====\n",
            "MSE_MP=0.08242735943350037, \t execute_time_MP=0.0159s\n",
            "MSE_OMP=0.11383774866463821, \t execute_time_OMP=0.1752s\n",
            "MSE_IHT=0.3014884290040599, \t execute_time_IHT=0.0136s\n",
            "MSE_IRLS=0.13624965095409297, \t execute_time_IRLS=2.2627s\n",
            "MSE_use_Lib=0.1404762166183085, \t execute_time_use_Lib=0.6615s\n",
            "====K=100====\n",
            "MSE_MP=0.18620488778238858, \t execute_time_MP=0.0332s\n",
            "MSE_OMP=0.4735336226511498, \t execute_time_OMP=0.3436s\n",
            "MSE_IHT=0.4784023017728316, \t execute_time_IHT=0.0141s\n",
            "MSE_IRLS=0.34306306216823573, \t execute_time_IRLS=4.9251s\n",
            "MSE_use_Lib=0.3473239321597156, \t execute_time_use_Lib=0.5796s\n",
            "====K=200====\n",
            "MSE_MP=0.41007704707281406, \t execute_time_MP=0.1054s\n",
            "MSE_OMP=0.4053185562103224, \t execute_time_OMP=1.9800s\n",
            "MSE_IHT=0.6857085076366796, \t execute_time_IHT=0.0279s\n",
            "MSE_IRLS=0.34306306216823573, \t execute_time_IRLS=4.9251s\n",
            "MSE_use_Lib=0.3473239321597156, \t execute_time_use_Lib=0.5796s\n"
          ]
        }
      ],
      "source": [
        "Ks = [10,20,50,100,200]\n",
        "for K in Ks:\n",
        "  N = 500\n",
        "  n = 250\n",
        "  A = np.random.randn(n,N)\n",
        "  x = np.zeros(N)\n",
        "  gaussian_value = np.random.randn(K)\n",
        "  gaussian_index = np.random.randint(0,N,K)\n",
        "  x[gaussian_index] = gaussian_value\n",
        "  y = A.dot(x)\n",
        "  \n",
        "  MSE_MP ,execute_time_MP = evaluator(MP_algorithm, A, x, y, K, N_iter)\n",
        "  MSE_OMP ,execute_time_OMP = evaluator(OMP_algorithm, A, x, y, K, N_iter)\n",
        "  MSE_IHT ,execute_time_IHT = evaluator(iterative_thresholding, A, x, y, K, N_iter)\n",
        "  if (K!=200):\n",
        "    MSE_IRLS ,execute_time_IRLS = evaluator(IRLS, A, x, y, K, N_iter)\n",
        "    MSE_use_Lib ,execute_time_use_Lib = evaluator(opt_convex, A, x, y, K, N_iter)\n",
        "\n",
        "\n",
        "  print(\"====K={}====\".format(K))\n",
        "  print(\"MSE_MP={}, \\t execute_time_MP={:.4f}s\".format(MSE_MP ,execute_time_MP))\n",
        "  print(\"MSE_OMP={}, \\t execute_time_OMP={:.4f}s\".format(MSE_OMP ,execute_time_OMP))\n",
        "  print(\"MSE_IHT={}, \\t execute_time_IHT={:.4f}s\".format(MSE_IHT ,execute_time_IHT))\n",
        "  print(\"MSE_IRLS={}, \\t execute_time_IRLS={:.4f}s\".format(MSE_IRLS ,execute_time_IRLS))\n",
        "  print(\"MSE_use_Lib={}, \\t execute_time_use_Lib={:.4f}s\".format(MSE_use_Lib ,execute_time_use_Lib))"
      ]
    },
    {
      "cell_type": "markdown",
      "metadata": {
        "id": "9SND8zE8S2CF"
      },
      "source": [
        "**Réponse** : On peut voir que lorsque la sparsité K={10,20}, la méthode OMP a une bonne précision de calcul et une grande efficacité. Cependant, lorsque la sparsité K augmente, la précision de la méthode OMP diminue fortement. À ce stade, la précision de la méthode IRLS est comparable à celle de la bibliothèque cvxpy, mais son efficacité de calcul est plus faible. La méthode du seuil itératif, quant à elle, donne de bons résultats à K={10,20}, mais sa précision devient la plus mauvaise parmi les cinq méthodes lorsque la sparsité augmente. Par conséquent, nous devons choisir la méthode de reconstruction en fonction de la rareté des données."
      ]
    },
    {
      "cell_type": "markdown",
      "metadata": {
        "id": "WvjVB62POqWc"
      },
      "source": [
        "**4 Reconstruction de signaux sparse dans le cas bruité**\n",
        "\n",
        "Dans cette section nous considérons le modèle suivant : \n",
        "$$y =Ax+η$$ \n",
        "\n",
        "où $η$ est un bruit blanc additif gaussien de moyenne nulle, de variance $σ^2$ et indépendant des données."
      ]
    },
    {
      "cell_type": "markdown",
      "metadata": {
        "id": "nmOSLxXyPB4g"
      },
      "source": [
        "**Question 10) Appliquez les algorithmes et méthodes développés dans la section précédente en adaptant éventuellement le critère au nouveau modèle?**"
      ]
    },
    {
      "cell_type": "code",
      "execution_count": 25,
      "metadata": {
        "id": "WThxo3lBPIGp"
      },
      "outputs": [],
      "source": [
        "sigma2 = 1\n",
        "N = 500\n",
        "n = 250\n",
        "K = 10\n",
        "A = np.random.randn(n,N)\n",
        "x = np.zeros(N)\n",
        "non_zeros_gaussian_value = np.random.randn(K)\n",
        "non_zeros_gaussian_index = np.random.randint(0,N,K)\n",
        "x[non_zeros_gaussian_index] = non_zeros_gaussian_value\n",
        "#ajouter le bruit aux données\n",
        "y = A.dot(x) + np.random.randn(n)*sigma2"
      ]
    },
    {
      "cell_type": "code",
      "execution_count": 26,
      "metadata": {
        "colab": {
          "base_uri": "https://localhost:8080/"
        },
        "id": "otiflmlRS2CG",
        "outputId": "30c7e181-e3f6-4c7c-9617-6fde8c315510"
      },
      "outputs": [
        {
          "output_type": "stream",
          "name": "stdout",
          "text": [
            "====sigma2=1====\n",
            "MSE_MP=0.0004964152155309614,\t execute_time_MP=0.0052s\n",
            "MSE_OMP=0.00019576612142579243,\t execute_time_OMP=0.0060s\n",
            "MSE_IHT=0.09079059858922323,\t execute_time_IHT=0.0014s\n",
            "MSE_IRLS=0.003333415167902868,\t execute_time_IRLS=0.6077s\n",
            "MSE_use_Lib=0.003280587788916421,\t execute_time_use_Lib=0.6731s\n"
          ]
        }
      ],
      "source": [
        "MSE_MP ,execute_time_MP = evaluator(MP_algorithm, A, x, y, K, N_iter)\n",
        "MSE_OMP ,execute_time_OMP = evaluator(OMP_algorithm, A, x, y, K, N_iter)\n",
        "MSE_IHT ,execute_time_IHT = evaluator(iterative_thresholding, A, x, y, K, N_iter)\n",
        "MSE_IRLS ,execute_time_IRLS = evaluator(IRLS, A, x, y, K, N_iter)\n",
        "MSE_use_Lib ,execute_time_use_Lib = evaluator(opt_convex, A, x, y, K, N_iter)\n",
        "\n",
        "print(\"====sigma2={}====\".format(sigma2))\n",
        "print(\"MSE_MP={},\\t execute_time_MP={:.4f}s\".format(MSE_MP ,execute_time_MP))\n",
        "print(\"MSE_OMP={},\\t execute_time_OMP={:.4f}s\".format(MSE_OMP ,execute_time_OMP))\n",
        "print(\"MSE_IHT={},\\t execute_time_IHT={:.4f}s\".format(MSE_IHT ,execute_time_IHT))\n",
        "print(\"MSE_IRLS={},\\t execute_time_IRLS={:.4f}s\".format(MSE_IRLS ,execute_time_IRLS))\n",
        "print(\"MSE_use_Lib={},\\t execute_time_use_Lib={:.4f}s\".format(MSE_use_Lib ,execute_time_use_Lib))"
      ]
    },
    {
      "cell_type": "markdown",
      "metadata": {
        "id": "0lv5YbO8S2CG"
      },
      "source": [
        "**Réponse** : On constate que la précision des cinq méthodes avec la même sparsité K diminue en présence de bruit. Parmi elles, OMP a des résultats plus stables."
      ]
    },
    {
      "cell_type": "markdown",
      "metadata": {
        "id": "hgsX1o-QPI28"
      },
      "source": [
        "**Question 11) Comparez les performances des différents algorithmes en termes d’erreur quadratique pour différentes valeurs de la variance du bruit $σ^2$ et tracez la courbe de l’erreur en fonction de $σ^2$ ?**"
      ]
    },
    {
      "cell_type": "code",
      "execution_count": 27,
      "metadata": {
        "id": "b6OZ4bqcS2CG"
      },
      "outputs": [],
      "source": [
        "N = 500\n",
        "n = 250\n",
        "K = 10\n",
        "A = np.random.randn(n,N)\n",
        "x = np.zeros(N)\n",
        "non_zeros_gaussian_value = np.random.randn(K)\n",
        "non_zeros_gaussian_index = np.random.randint(0,N,K)\n",
        "x[non_zeros_gaussian_index] = non_zeros_gaussian_value"
      ]
    },
    {
      "cell_type": "code",
      "execution_count": 28,
      "metadata": {
        "id": "sEzRXHNJPWoy",
        "colab": {
          "base_uri": "https://localhost:8080/"
        },
        "outputId": "2be1f07d-715c-490f-cb6f-b7211e592bc7"
      },
      "outputs": [
        {
          "output_type": "stream",
          "name": "stdout",
          "text": [
            "====sigma^2=0.01====\n",
            "MSE_MP=6.837610662632344e-05,\t execute_time_MP=0.0036s\n",
            "MSE_OMP=1.3665933927260654e-08,\t execute_time_OMP=0.0066s\n",
            "MSE_IHT=0.08391519999905243,\t execute_time_IHT=0.0020s\n",
            "MSE_IRLS=3.3977710167388063e-07,\t execute_time_IRLS=0.8971s\n",
            "MSE_use_Lib=2.777026031221155e-07,execute_time_use_Lib=0.9021s\n",
            "====sigma^2=0.1====\n",
            "MSE_MP=6.954975785945302e-05,\t execute_time_MP=0.0037s\n",
            "MSE_OMP=1.3155310201891382e-06,\t execute_time_OMP=0.0066s\n",
            "MSE_IHT=0.08611488762762545,\t execute_time_IHT=0.0017s\n",
            "MSE_IRLS=2.841164062390262e-05,\t execute_time_IRLS=0.6036s\n",
            "MSE_use_Lib=2.7358328954102586e-05,execute_time_use_Lib=0.7358s\n",
            "====sigma^2=0.5====\n",
            "MSE_MP=0.00010431655737542868,\t execute_time_MP=0.0036s\n",
            "MSE_OMP=4.3782072356014e-06,\t execute_time_OMP=0.0065s\n",
            "MSE_IHT=0.08859340221392122,\t execute_time_IHT=0.0016s\n",
            "MSE_IRLS=0.0010869407447222583,\t execute_time_IRLS=0.6313s\n",
            "MSE_use_Lib=0.0010174960821524733,execute_time_use_Lib=0.6533s\n",
            "====sigma^2=1====\n",
            "MSE_MP=0.000260104557053091,\t execute_time_MP=0.0041s\n",
            "MSE_OMP=0.00023157974173502262,\t execute_time_OMP=0.0061s\n",
            "MSE_IHT=0.0958960201045143,\t execute_time_IHT=0.0017s\n",
            "MSE_IRLS=0.0024634159916293937,\t execute_time_IRLS=0.5718s\n",
            "MSE_use_Lib=0.002510007828136156,execute_time_use_Lib=0.7415s\n",
            "====sigma^2=2====\n",
            "MSE_MP=0.002397713804124533,\t execute_time_MP=0.0038s\n",
            "MSE_OMP=0.002799589026509844,\t execute_time_OMP=0.0070s\n",
            "MSE_IHT=0.09811402670887842,\t execute_time_IHT=0.0015s\n",
            "MSE_IRLS=0.010813467318933831,\t execute_time_IRLS=0.5496s\n",
            "MSE_use_Lib=0.010684280134143732,execute_time_use_Lib=0.6518s\n",
            "====sigma^2=10====\n",
            "MSE_MP=0.06468887076956922,\t execute_time_MP=0.0037s\n",
            "MSE_OMP=0.07946750630506406,\t execute_time_OMP=0.0083s\n",
            "MSE_IHT=0.08910667865823887,\t execute_time_IHT=0.0015s\n",
            "MSE_IRLS=0.26957255023312504,\t execute_time_IRLS=0.4570s\n",
            "MSE_use_Lib=0.3077013019620008,execute_time_use_Lib=0.6394s\n"
          ]
        }
      ],
      "source": [
        "sigma2s = [0.01,0.1,0.5,1,2,10]\n",
        "\n",
        "MSE_MPs = []\n",
        "MSE_OMPs = []\n",
        "MSE_IHTs = []\n",
        "MSE_IRLSs = []\n",
        "MSE_use_Libs = []\n",
        "\n",
        "for sigma2 in sigma2s:\n",
        "  y = A.dot(x) + np.random.randn(n)*sigma2\n",
        "\n",
        "  MSE_MP ,execute_time_MP = evaluator(MP_algorithm, A, x, y, K, N_iter)\n",
        "  MSE_OMP ,execute_time_OMP = evaluator(OMP_algorithm, A, x, y, K, N_iter)\n",
        "  MSE_IHT ,execute_time_IHT = evaluator(iterative_thresholding, A, x, y, K, N_iter)\n",
        "  MSE_IRLS ,execute_time_IRLS = evaluator(IRLS, A, x, y, K, N_iter)\n",
        "  MSE_use_Lib ,execute_time_use_Lib = evaluator(opt_convex, A, x, y, K, N_iter)\n",
        "  \n",
        "  MSE_MPs.append(MSE_MP)\n",
        "  MSE_OMPs.append(MSE_OMP)\n",
        "  MSE_IHTs.append(MSE_IHT)\n",
        "  MSE_IRLSs.append(MSE_IRLS)\n",
        "  MSE_use_Libs.append(MSE_use_Lib)\n",
        "\n",
        "\n",
        "  print(\"====sigma^2={}====\".format(sigma2))\n",
        "  print(\"MSE_MP={},\\t execute_time_MP={:.4f}s\".format(MSE_MP ,execute_time_MP))\n",
        "  print(\"MSE_OMP={},\\t execute_time_OMP={:.4f}s\".format(MSE_OMP ,execute_time_OMP))\n",
        "  print(\"MSE_IHT={},\\t execute_time_IHT={:.4f}s\".format(MSE_IHT ,execute_time_IHT))\n",
        "  print(\"MSE_IRLS={},\\t execute_time_IRLS={:.4f}s\".format(MSE_IRLS ,execute_time_IRLS))\n",
        "  print(\"MSE_use_Lib={},execute_time_use_Lib={:.4f}s\".format(MSE_use_Lib ,execute_time_use_Lib))"
      ]
    },
    {
      "cell_type": "code",
      "execution_count": 31,
      "metadata": {
        "colab": {
          "base_uri": "https://localhost:8080/",
          "height": 313
        },
        "id": "3x7Qfn2lS2CH",
        "outputId": "5e055773-468c-4520-8dbb-72f13643c060"
      },
      "outputs": [
        {
          "output_type": "execute_result",
          "data": {
            "text/plain": [
              "Text(0.5, 1.0, 'MSE of Different methods at variant sigma^2')"
            ]
          },
          "metadata": {},
          "execution_count": 31
        },
        {
          "output_type": "display_data",
          "data": {
            "text/plain": [
              "<Figure size 432x288 with 1 Axes>"
            ],
            "image/png": "[encoded data removed]"
          },
          "metadata": {
            "needs_background": "light"
          }
        }
      ],
      "source": [
        "plt.figure()\n",
        "plt.plot(sigma2s, MSE_MPs, '-o',label=\"MPs\")\n",
        "plt.plot(sigma2s, MSE_OMPs, '-o',label=\"OMPs\")\n",
        "plt.plot(sigma2s, MSE_IHTs, '-o',label=\"IHTs\")\n",
        "plt.plot(sigma2s, MSE_IRLSs, '-o',label=\"IRLSs\")\n",
        "plt.plot(sigma2s, MSE_use_Libs, '-o',label=\"use_Libs\")\n",
        "plt.legend()\n",
        "plt.xticks(range(len(sigma2s)),sigma2s)\n",
        "plt.xlabel(\"sigma2\")\n",
        "plt.ylabel(\"MSE\")\n",
        "plt.title(\"MSE of Different methods at variant sigma^2\")"
      ]
    },
    {
      "cell_type": "markdown",
      "metadata": {
        "id": "DdUSaXLqPXJ2"
      },
      "source": [
        "**Réponse** : On peut voir que la robustesse de chaque méthode sous l'influence de différents niveaux de bruit. Parmi eux, les méthodes de la bibliothèque IRLS et cvxpy ont la robustesse la plus faible, et leur MSE augmente considérablement lorsque le bruit devient important, tandis que les trois autres algorithmes ont une plus grande robustesse lorsque nous utilisons différentes variances de bruit $σ^2$ . On peut constater que les méthodes MP et OMP ont une grande précision de reconstruction et une grande robustesse lorsque l'observation est bruyante."
      ]
    }
  ],
  "metadata": {
    "colab": {
      "provenance": []
    },
    "kernelspec": {
      "display_name": "Python 3",
      "language": "python",
      "name": "python3"
    },
    "language_info": {
      "codemirror_mode": {
        "name": "ipython",
        "version": 3
      },
      "file_extension": ".py",
      "mimetype": "text/x-python",
      "name": "python",
      "nbconvert_exporter": "python",
      "pygments_lexer": "ipython3",
      "version": "3.7.8"
    },
    "vscode": {
      "interpreter": {
        "hash": "0a54084e6b208ee8d1ce3989ffc20924477a5f55f5a43e22e699a6741623861e"
      }
    }
  },
  "nbformat": 4,
  "nbformat_minor": 0
}